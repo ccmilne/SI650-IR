{
 "cells": [
  {
   "cell_type": "markdown",
   "metadata": {},
   "source": [
    "# Homework 1 - Probabilities, Text, and Ranking\n",
    "Cameron Milne\n",
    "\n",
    "SI 650"
   ]
  },
  {
   "cell_type": "code",
   "execution_count": 12,
   "metadata": {},
   "outputs": [],
   "source": [
    "import numpy as np\n",
    "import pandas as pd"
   ]
  },
  {
   "cell_type": "markdown",
   "metadata": {},
   "source": [
    "## 1. Probabilistic Reasoning and Bayes Rule [25 Points]"
   ]
  },
  {
   "cell_type": "code",
   "execution_count": 13,
   "metadata": {},
   "outputs": [
    {
     "name": "stdout",
     "output_type": "stream",
     "text": [
      "Columns: S, B, U, E\n"
     ]
    },
    {
     "data": {
      "text/plain": [
       "array([[0, 1, 1, 1],\n",
       "       [1, 0, 1, 0],\n",
       "       [1, 1, 1, 1],\n",
       "       [0, 1, 1, 0],\n",
       "       [1, 1, 0, 1],\n",
       "       [0, 0, 0, 0],\n",
       "       [1, 1, 1, 0],\n",
       "       [0, 0, 1, 1],\n",
       "       [0, 0, 0, 0],\n",
       "       [1, 0, 1, 1],\n",
       "       [1, 1, 1, 0],\n",
       "       [1, 1, 0, 0]])"
      ]
     },
     "execution_count": 13,
     "metadata": {},
     "output_type": "execute_result"
    }
   ],
   "source": [
    "table1 =np.array([[0, 1, 1, 1],\n",
    "                  [1, 0, 1, 0],\n",
    "                  [1, 1, 1, 1],\n",
    "                  [0, 1, 1, 0],\n",
    "                  [1, 1, 0, 1],\n",
    "                  [0, 0, 0, 0],\n",
    "                  [1, 1, 1, 0],\n",
    "                  [0, 0, 1, 1],\n",
    "                  [0, 0, 0, 0],\n",
    "                  [1, 0, 1, 1],\n",
    "                  [1, 1, 1, 0],\n",
    "                  [1, 1, 0, 0]])\n",
    "print(\"Columns: S, B, U, E\")\n",
    "table1"
   ]
  },
  {
   "cell_type": "code",
   "execution_count": 14,
   "metadata": {},
   "outputs": [
    {
     "data": {
      "text/html": [
       "<div>\n",
       "<style scoped>\n",
       "    .dataframe tbody tr th:only-of-type {\n",
       "        vertical-align: middle;\n",
       "    }\n",
       "\n",
       "    .dataframe tbody tr th {\n",
       "        vertical-align: top;\n",
       "    }\n",
       "\n",
       "    .dataframe thead th {\n",
       "        text-align: right;\n",
       "    }\n",
       "</style>\n",
       "<table border=\"1\" class=\"dataframe\">\n",
       "  <thead>\n",
       "    <tr style=\"text-align: right;\">\n",
       "      <th></th>\n",
       "      <th>S</th>\n",
       "      <th>P(B=1|S)</th>\n",
       "      <th>P(U=1|S)</th>\n",
       "      <th>P(E=1|S)</th>\n",
       "      <th>Prior P(S)</th>\n",
       "    </tr>\n",
       "  </thead>\n",
       "  <tbody>\n",
       "    <tr>\n",
       "      <th>0</th>\n",
       "      <td>1</td>\n",
       "      <td>0.71428</td>\n",
       "      <td>0</td>\n",
       "      <td>0</td>\n",
       "      <td>0.00000</td>\n",
       "    </tr>\n",
       "    <tr>\n",
       "      <th>1</th>\n",
       "      <td>0</td>\n",
       "      <td>0.00000</td>\n",
       "      <td>0</td>\n",
       "      <td>0</td>\n",
       "      <td>0.41666</td>\n",
       "    </tr>\n",
       "  </tbody>\n",
       "</table>\n",
       "</div>"
      ],
      "text/plain": [
       "   S  P(B=1|S)  P(U=1|S)  P(E=1|S)  Prior P(S)\n",
       "0  1   0.71428         0         0     0.00000\n",
       "1  0   0.00000         0         0     0.41666"
      ]
     },
     "execution_count": 14,
     "metadata": {},
     "output_type": "execute_result"
    }
   ],
   "source": [
    "#Table 2 for Reference (to be filled in)\n",
    "table2_ref = pd.DataFrame({\n",
    "    'S': [1, 0],\n",
    "    'P(B=1|S)': [0.71428, 0],\n",
    "    'P(U=1|S)': [0, 0],\n",
    "    'P(E=1|S)': [0, 0],\n",
    "    'Prior P(S)': [0, 0.41666]  \n",
    "})\n",
    "table2_ref"
   ]
  },
  {
   "cell_type": "markdown",
   "metadata": {},
   "source": [
    "#### a) (5 points) Fill in the Table 2 with conditional probabilities using only the information present in the 12 samples."
   ]
  },
  {
   "cell_type": "code",
   "execution_count": 15,
   "metadata": {},
   "outputs": [
    {
     "data": {
      "text/html": [
       "<div>\n",
       "<style scoped>\n",
       "    .dataframe tbody tr th:only-of-type {\n",
       "        vertical-align: middle;\n",
       "    }\n",
       "\n",
       "    .dataframe tbody tr th {\n",
       "        vertical-align: top;\n",
       "    }\n",
       "\n",
       "    .dataframe thead th {\n",
       "        text-align: right;\n",
       "    }\n",
       "</style>\n",
       "<table border=\"1\" class=\"dataframe\">\n",
       "  <thead>\n",
       "    <tr style=\"text-align: right;\">\n",
       "      <th></th>\n",
       "      <th>S</th>\n",
       "      <th>P(B=1|S)</th>\n",
       "      <th>P(U=1|S)</th>\n",
       "      <th>P(E=1|S)</th>\n",
       "      <th>Prior P(S)</th>\n",
       "    </tr>\n",
       "  </thead>\n",
       "  <tbody>\n",
       "    <tr>\n",
       "      <th>0</th>\n",
       "      <td>1</td>\n",
       "      <td>0.71428</td>\n",
       "      <td>0.714286</td>\n",
       "      <td>0.428571</td>\n",
       "      <td>0.583333</td>\n",
       "    </tr>\n",
       "    <tr>\n",
       "      <th>1</th>\n",
       "      <td>0</td>\n",
       "      <td>0.40000</td>\n",
       "      <td>0.600000</td>\n",
       "      <td>0.400000</td>\n",
       "      <td>0.416660</td>\n",
       "    </tr>\n",
       "  </tbody>\n",
       "</table>\n",
       "</div>"
      ],
      "text/plain": [
       "   S  P(B=1|S)  P(U=1|S)  P(E=1|S)  Prior P(S)\n",
       "0  1   0.71428  0.714286  0.428571    0.583333\n",
       "1  0   0.40000  0.600000  0.400000    0.416660"
      ]
     },
     "execution_count": 15,
     "metadata": {},
     "output_type": "execute_result"
    }
   ],
   "source": [
    "#Already Provided\n",
    "pbs1 = (5/7) #0.71428\n",
    "prior0 = 0.416660\n",
    "s1 = (7/12)\n",
    "s0 = (5/12)\n",
    "\n",
    "#Calculations\n",
    "pbs0 = (2/5) #P(B=1|S=0)\n",
    "pus1 = (5/7) #P(U=1|S=1)\n",
    "pus0 = (3/5) #P(U=1|S=0)\n",
    "pes1 = (3/7) #P(E=1|S=1)\n",
    "pes0 = (2/5) #P(E=1|S=0)\n",
    "prior1 = s1\n",
    "\n",
    "table2 = pd.DataFrame({\n",
    "    'S': [1, 0],\n",
    "    'P(B=1|S)': [0.71428, pbs0],\n",
    "    'P(U=1|S)': [pus1, pus0],\n",
    "    'P(E=1|S)': [pes1, pes0],\n",
    "    'Prior P(S)': [prior1, 0.41666]  \n",
    "})\n",
    "table2"
   ]
  },
  {
   "cell_type": "markdown",
   "metadata": {},
   "source": [
    "#### b) (5 points) With the independence assumption, use the Bayes formula and the calculated conditional probabilities to compute the probabilities that account a with B=0,U=1,E=0 is a spam. That is, compute P(S=1|B=0,U=1,E=0) and P(S=0|B=0,U=1,E=0). Would you conclude that account a is a spam?  Show your computation."
   ]
  },
  {
   "cell_type": "code",
   "execution_count": 83,
   "metadata": {},
   "outputs": [
    {
     "name": "stdout",
     "output_type": "stream",
     "text": [
      "P(S=1|B=0,U=1,E=0) = P(S=1|B=0)P(S=1|U=1)P(S=1|E=0)P(S=1) / (P(B=0|S=1)P(U=1|S=1)P(E=0|S=1) + P(B=0|S=0)P(U=1|S=0)P(E=0|S=0))\n",
      "P(S=1|B=0,U=1,E=0): 0.4304778303917349\n",
      "\n",
      "P(S=0|B=0,U=1,E=0) = P(S=0|B=0)P(S=0|U=1)P(S=0|E=0)P(S=0) / (P(B=0|S=1)P(U=1|S=1)P(E=0|S=1) + P(B=0|S=0)P(U=1|S=0)P(E=0|S=0))\n",
      "P(S=0|B=0,U=1,E=0): 0.5695221696082652\n"
     ]
    }
   ],
   "source": [
    "ps1_b0u1e0 = ((2/7) * (5/7) * (4/7) * (7/12)) / ((((2/7) * (5/7) * (4/7)) * (7/12)) + (((3/5) * (3/5) * (3/5)) * (5/12)))\n",
    "print(\"P(S=1|B=0,U=1,E=0) = P(S=1|B=0)P(S=1|U=1)P(S=1|E=0)P(S=1) / (P(B=0|S=1)P(U=1|S=1)P(E=0|S=1) + P(B=0|S=0)P(U=1|S=0)P(E=0|S=0))\")\n",
    "print(\"P(S=1|B=0,U=1,E=0): {}\".format(ps1_b0u1e0))\n",
    "print(\"\")\n",
    "\n",
    "ps0_b0u1e0 = (((3/5) * (3/5) * (3/5)) * (5/12)) / ((((2/7) * (5/7) * (4/7)) * (7/12)) + (((3/5) * (3/5) * (3/5)) * (5/12)))\n",
    "print(\"P(S=0|B=0,U=1,E=0) = P(S=0|B=0)P(S=0|U=1)P(S=0|E=0)P(S=0) / (P(B=0|S=1)P(U=1|S=1)P(E=0|S=1) + P(B=0|S=0)P(U=1|S=0)P(E=0|S=0))\")\n",
    "print(\"P(S=0|B=0,U=1,E=0): {}\".format(ps0_b0u1e0))"
   ]
  },
  {
   "cell_type": "markdown",
   "metadata": {},
   "source": [
    "No, because P(S=1|B=0,U=1,E=0) and P(S=0|B=0,U=1,E=0) are both relatively lower percentages, so it would be unwise to claim that P(S=1|B=0,U=1,E=0) is spam. However, our independence assumption might be affecting the results in a way that's not true in reality, so these results could be \"naive\" or just plain wrong. "
   ]
  },
  {
   "cell_type": "markdown",
   "metadata": {},
   "source": [
    "#### c) (5 points) Now, compute P(S= 1|B= 0, U= 1, E= 0) and P(S= 0|B= 0, U=1, E= 0) directly from the 12 examples in Table 1, just like what you did in problem A. Do you get the same value as in problem B? Why?"
   ]
  },
  {
   "cell_type": "markdown",
   "metadata": {},
   "source": [
    "No, the answers are different. When computing by looking manually, I found that there's only one case where B= 0, U= 1, and E= 0, and S=1 in that row. So, the probability that S=0 for those cases should be zero. \n",
    "\n",
    "These values contradict the ones derived mathematically above, because looking at the table for instances of the exact parameters doesn't consider the independence assumption in finding results, and therefore yields different ones. "
   ]
  },
  {
   "cell_type": "markdown",
   "metadata": {},
   "source": [
    "#### d) (5 points) Now, ignore Table 1, and consider any possibilities you can fill in Table 2. Are there any constraints on these values that we must respect when assigning these values? In other words, can we fill in Table 2 with 8 arbitrary values between 0 and 1? If not, are there any constraints on some values that we must follow?  Describe your answer."
   ]
  },
  {
   "cell_type": "code",
   "execution_count": 18,
   "metadata": {},
   "outputs": [
    {
     "data": {
      "text/html": [
       "<div>\n",
       "<style scoped>\n",
       "    .dataframe tbody tr th:only-of-type {\n",
       "        vertical-align: middle;\n",
       "    }\n",
       "\n",
       "    .dataframe tbody tr th {\n",
       "        vertical-align: top;\n",
       "    }\n",
       "\n",
       "    .dataframe thead th {\n",
       "        text-align: right;\n",
       "    }\n",
       "</style>\n",
       "<table border=\"1\" class=\"dataframe\">\n",
       "  <thead>\n",
       "    <tr style=\"text-align: right;\">\n",
       "      <th></th>\n",
       "      <th>S</th>\n",
       "      <th>P(B=1|S)</th>\n",
       "      <th>P(U=1|S)</th>\n",
       "      <th>P(E=1|S)</th>\n",
       "      <th>Prior P(S)</th>\n",
       "    </tr>\n",
       "  </thead>\n",
       "  <tbody>\n",
       "    <tr>\n",
       "      <th>0</th>\n",
       "      <td>1</td>\n",
       "      <td>0.71428</td>\n",
       "      <td>0</td>\n",
       "      <td>0</td>\n",
       "      <td>0.00000</td>\n",
       "    </tr>\n",
       "    <tr>\n",
       "      <th>1</th>\n",
       "      <td>0</td>\n",
       "      <td>0.00000</td>\n",
       "      <td>0</td>\n",
       "      <td>0</td>\n",
       "      <td>0.41666</td>\n",
       "    </tr>\n",
       "  </tbody>\n",
       "</table>\n",
       "</div>"
      ],
      "text/plain": [
       "   S  P(B=1|S)  P(U=1|S)  P(E=1|S)  Prior P(S)\n",
       "0  1   0.71428         0         0     0.00000\n",
       "1  0   0.00000         0         0     0.41666"
      ]
     },
     "execution_count": 18,
     "metadata": {},
     "output_type": "execute_result"
    }
   ],
   "source": [
    "table2_ref"
   ]
  },
  {
   "cell_type": "markdown",
   "metadata": {},
   "source": [
    "Without looking at Table 1, we can not fill in any of these values. The problem would be that we don't know how many values there are in calculating P(S). We could calculate the opposite of each column (i.e. P(B=1|S=0) --> P(B=0|S=1) ) by subtracting the value from 1, but without knowing the number of values for B or S, we cannot go any further."
   ]
  },
  {
   "cell_type": "markdown",
   "metadata": {},
   "source": [
    "#### e) (5  points) Can you change your conclusion of problem a (i.e., whether account a is a spam) by only changing the value E (i.e., if the account bio has an emoji) in one example of Table 1? Describe your answer."
   ]
  },
  {
   "cell_type": "code",
   "execution_count": 19,
   "metadata": {},
   "outputs": [],
   "source": [
    "table1 =np.array([[0, 1, 1, 1],\n",
    "                  [1, 0, 1, 0],\n",
    "                  [1, 1, 1, 1],\n",
    "                  [0, 1, 1, 0],\n",
    "                  [1, 1, 0, 1],\n",
    "                  [0, 0, 0, 0],\n",
    "                  [1, 1, 1, 0],\n",
    "                  [0, 0, 1, 1],\n",
    "                  [0, 0, 0, 0],\n",
    "                  [1, 0, 1, 1],\n",
    "                  [1, 1, 1, 0],\n",
    "                  [1, 1, 0, 1]]) #Changed E=0 to E=1 here"
   ]
  },
  {
   "cell_type": "code",
   "execution_count": 20,
   "metadata": {},
   "outputs": [
    {
     "data": {
      "text/html": [
       "<div>\n",
       "<style scoped>\n",
       "    .dataframe tbody tr th:only-of-type {\n",
       "        vertical-align: middle;\n",
       "    }\n",
       "\n",
       "    .dataframe tbody tr th {\n",
       "        vertical-align: top;\n",
       "    }\n",
       "\n",
       "    .dataframe thead th {\n",
       "        text-align: right;\n",
       "    }\n",
       "</style>\n",
       "<table border=\"1\" class=\"dataframe\">\n",
       "  <thead>\n",
       "    <tr style=\"text-align: right;\">\n",
       "      <th></th>\n",
       "      <th>S</th>\n",
       "      <th>P(B=1|S)</th>\n",
       "      <th>P(U=1|S)</th>\n",
       "      <th>P(E=1|S)</th>\n",
       "      <th>Prior P(S)</th>\n",
       "    </tr>\n",
       "  </thead>\n",
       "  <tbody>\n",
       "    <tr>\n",
       "      <th>0</th>\n",
       "      <td>1</td>\n",
       "      <td>0.71428</td>\n",
       "      <td>0.714286</td>\n",
       "      <td>0.428571</td>\n",
       "      <td>0.583333</td>\n",
       "    </tr>\n",
       "    <tr>\n",
       "      <th>1</th>\n",
       "      <td>0</td>\n",
       "      <td>0.40000</td>\n",
       "      <td>0.600000</td>\n",
       "      <td>0.400000</td>\n",
       "      <td>0.416660</td>\n",
       "    </tr>\n",
       "  </tbody>\n",
       "</table>\n",
       "</div>"
      ],
      "text/plain": [
       "   S  P(B=1|S)  P(U=1|S)  P(E=1|S)  Prior P(S)\n",
       "0  1   0.71428  0.714286  0.428571    0.583333\n",
       "1  0   0.40000  0.600000  0.400000    0.416660"
      ]
     },
     "execution_count": 20,
     "metadata": {},
     "output_type": "execute_result"
    }
   ],
   "source": [
    "#Already Provided\n",
    "pbs1 = (5/7) #0.71428\n",
    "prior0 = 0.416660\n",
    "s1 = (7/12)\n",
    "s0 = (5/12)\n",
    "\n",
    "#Calculations\n",
    "pbs0 = (2/5) #P(B=1|S=0)\n",
    "pus1 = (5/7) #P(U=1|S=1)\n",
    "pus0 = (3/5) #P(U=1|S=0)\n",
    "pes1 = (3/7) #P(E=1|S=1)\n",
    "pes0 = (2/5) #P(E=1|S=0)\n",
    "prior1 = s1\n",
    "\n",
    "table2 = pd.DataFrame({\n",
    "    'S': [1, 0],\n",
    "    'P(B=1|S)': [0.71428, pbs0],\n",
    "    'P(U=1|S)': [pus1, pus0],\n",
    "    'P(E=1|S)': [pes1, pes0],\n",
    "    'Prior P(S)': [prior1, 0.41666]  \n",
    "})\n",
    "table2"
   ]
  },
  {
   "cell_type": "markdown",
   "metadata": {},
   "source": [
    "#### f) (5 points) Explain why the independence assumption P(B, U, E|S) = P(B|S)P(U|S)P(E|S) does not necessarily hold in reality."
   ]
  },
  {
   "cell_type": "markdown",
   "metadata": {},
   "source": [
    "The independence assumption doesn't necessarily hold true in reality because it requires multiplying all the probabilities, decreasing the posterior probability with every additional feature. In the context of a Tiktok spam account, or any other case with three or more categories being compared, patterns are likely to emerge that connect those categories with the output (or label). We can see above in Table 1 that the P(B=1|S=1), P(U=1|S=1), and P(E=1|S=1) are 0.71, 0.71, and 0.43 respectively. The independence assumption multiplies these values and produces a result that's likely significantly lower than the true value. "
   ]
  },
  {
   "cell_type": "markdown",
   "metadata": {},
   "source": [
    "## 2. Text Data Analyses [30 Points]"
   ]
  },
  {
   "cell_type": "code",
   "execution_count": 21,
   "metadata": {},
   "outputs": [],
   "source": [
    "import spacy\n",
    "import pandas as pd\n",
    "import numpy as np\n",
    "import operator\n",
    "import matplotlib.pyplot as plt\n",
    "from tqdm.auto import tqdm\n",
    "\n",
    "nlp = spacy.load(\"en_core_web_sm\")\n",
    "\n",
    "files = {\n",
    "    'Reddit': 'si650-f21-reddit-questions.txt',\n",
    "    'Wikipedia': 'si650.f21.wiki-bios.10k.txt',\n",
    "    'Stopwords': 'stoplist.txt'}"
   ]
  },
  {
   "cell_type": "code",
   "execution_count": 22,
   "metadata": {
    "tags": []
   },
   "outputs": [],
   "source": [
    "with open(files['Reddit'], encoding='utf-8') as r:\n",
    "    reddit_lines = r.readlines()\n",
    "    reddit_list = [line.replace('\\n', '') for line in reddit_lines]\n",
    "\n",
    "with open(files['Wikipedia'], encoding='utf-8') as w:\n",
    "    wikipedia_lines = w.readlines()\n",
    "    wikipedia_list = [line.replace('\\n', '') for line in wikipedia_lines]\n",
    "\n",
    "with open(files['Stopwords'], encoding='utf-8') as s:\n",
    "    stopwords_lines = s.readlines()\n",
    "    stopwords_list = [line.replace('\\n', '') for line in stopwords_lines]"
   ]
  },
  {
   "cell_type": "code",
   "execution_count": 23,
   "metadata": {},
   "outputs": [
    {
     "name": "stdout",
     "output_type": "stream",
     "text": [
      "Character Count for Reddit File:    1631277\n",
      "Character Count for Wikipedia File: 13369336\n",
      "Character Count for Stopwords File: 2718\n",
      "=====\n",
      "Character Limit for NLP processing: 1000000\n"
     ]
    }
   ],
   "source": [
    "print('Character Count for Reddit File:    {}'.format(len(' '.join([str(element) for element in reddit_list]))))\n",
    "print('Character Count for Wikipedia File: {}'.format(len(' '.join([str(element) for element in wikipedia_list]))))\n",
    "print('Character Count for Stopwords File: {}'.format(len(' '.join([str(element) for element in stopwords_list]))))\n",
    "print('=====')\n",
    "print('Character Limit for NLP processing: {}'.format(nlp.max_length))"
   ]
  },
  {
   "cell_type": "markdown",
   "metadata": {},
   "source": [
    "#### 1. (5 points) Tokenize the text using SpaCy and compute the frequency of words.  Then, plot  the  frequency  distribution  of  words  in  each  collection  after  the  removal  of  the stopwords:  x-axis – each point is a word, sorted overall by frequency (number of times a word appears in the collection) 1; y-axis – how many times the word occurred.  Plot this using a log scale on each axis.  Does each plot look like a power-law distribution? Are the two distributions similar or different?"
   ]
  },
  {
   "cell_type": "code",
   "execution_count": 24,
   "metadata": {
    "tags": []
   },
   "outputs": [],
   "source": [
    "def clean_string_lowercase(string):\n",
    "    '''\n",
    "    Takes a string and performs a range of activities:\n",
    "        - Excludes instances of !()[]{};:'\"\\,<>.?@#$%^&*_~‘’\n",
    "        - Replaces forward slashes with a space\n",
    "        - Replaces hyphens with a space\n",
    "        - Replaces plus signs with a space\n",
    "    \n",
    "    Returns a lowercase string\n",
    "    '''\n",
    "    exclusions = '''!()[]{};:'\"\\,<>.?@#$%^&*_~‘’''' # list of special characters you want to exclude\n",
    "    replacements = '''-/+—'''\n",
    "    \n",
    "    cleaned_string = \"\"\n",
    "    \n",
    "    for char in string:\n",
    "        if char not in exclusions:\n",
    "            cleaned_string = cleaned_string + char\n",
    "        \n",
    "    for char in cleaned_string:\n",
    "        if char in replacements:\n",
    "            cleaned_string = cleaned_string.replace(char, \" \")\n",
    "                \n",
    "    return cleaned_string.lower()\n",
    "\n",
    "def clean_string_preserve_uppercase(string):\n",
    "    '''\n",
    "    Takes a string and performs a range of activities:\n",
    "        - Excludes instances of !()[]{};:'\"\\,<>.?@#$%^&*_~‘’\n",
    "        - Replaces forward slashes with a space\n",
    "        - Replaces hyphens with a space\n",
    "        - Replaces plus signs with a space\n",
    "    \n",
    "    Returns a lowercase string\n",
    "    '''\n",
    "    exclusions = '''!()[]{};:'\"\\,<>.?@#$%^&*_~‘’''' # list of special characters you want to exclude\n",
    "    replacements = '''-/+—'''\n",
    "    \n",
    "    cleaned_string = \"\"\n",
    "    \n",
    "    for char in string:\n",
    "        if char not in exclusions:\n",
    "            cleaned_string = cleaned_string + char\n",
    "        \n",
    "    for char in cleaned_string:\n",
    "        if char in replacements:\n",
    "            cleaned_string = cleaned_string.replace(char, \" \")\n",
    "    \n",
    "    return cleaned_string"
   ]
  },
  {
   "cell_type": "code",
   "execution_count": 25,
   "metadata": {
    "tags": []
   },
   "outputs": [],
   "source": [
    "def remove_stopwords(some_list):\n",
    "    '''\n",
    "    Iterates through list and returns words that are not considered \"stop words\"\n",
    "    '''\n",
    "    contraction_catch = ['arent', 'cant', 'couldnt', 'didnt', 'doesnt', 'dont', 'hadnt', 'havent', 'hes', 'hell', 'hed', 'heres', 'im', \n",
    "                         'ive', 'ill', 'isnt', 'its', 'itll', 'mustnt', 'shes', 'shouldnt', 'thats', 'theres', 'theyre', 'theyve', 'wasnt', \n",
    "                         'were', 'weve', 'well', 'wed', 'werent', 'whats', 'whos', 'wholl', 'wont', 'youre', 'youll', 'youd', 'youve']\n",
    "    new_list = []\n",
    "    for word in some_list:\n",
    "        if word not in stopwords_list and word not in contraction_catch:\n",
    "            new_list.append(word)\n",
    "            \n",
    "    return new_list"
   ]
  },
  {
   "cell_type": "code",
   "execution_count": 26,
   "metadata": {
    "tags": []
   },
   "outputs": [],
   "source": [
    "def calculate_word_frequency(some_list):\n",
    "    '''\n",
    "    Determines the frequency of words and returns a dictionary of the most\n",
    "    frequently appearing words in descending order\n",
    "    '''\n",
    "    word_counter = {}\n",
    "    for word in some_list:\n",
    "        if word not in word_counter.keys():\n",
    "            word_counter[word] = 1\n",
    "        else:\n",
    "            word_counter[word] += 1\n",
    "    sorted_counter = sorted(word_counter.items(), key=operator.itemgetter(1), reverse=True)\n",
    "    return sorted_counter"
   ]
  },
  {
   "cell_type": "code",
   "execution_count": 27,
   "metadata": {},
   "outputs": [
    {
     "data": {
      "application/vnd.jupyter.widget-view+json": {
       "model_id": "d3470a24abf04b9f8bad319ca3b7fd84",
       "version_major": 2,
       "version_minor": 0
      },
      "text/plain": [
       "  0%|          | 0/20000 [00:00<?, ?it/s]"
      ]
     },
     "metadata": {},
     "output_type": "display_data"
    },
    {
     "name": "stdout",
     "output_type": "stream",
     "text": [
      "Reddit word count after processing: 13316\n"
     ]
    }
   ],
   "source": [
    "#Faster Reddit Prepocessing\n",
    "new_reddit_list = []\n",
    "for doc in tqdm(reddit_list):\n",
    "#     doc = nlp(line)\n",
    "    cleaned_string = clean_string_lowercase(doc) #Clean punctuation\n",
    "    list_of_cleaned_string = cleaned_string.split() #Convert to list\n",
    "    no_stopwords_Reddit = remove_stopwords(list_of_cleaned_string) #Remove Stopwords    \n",
    "    new_reddit_list.append(no_stopwords_Reddit)\n",
    "    \n",
    "reddit_flattened = [item for sublist in new_reddit_list for item in sublist]\n",
    "reddit_word_freq = calculate_word_frequency(reddit_flattened)\n",
    "print('Reddit word count after processing: {}'.format(len(reddit_word_freq)))"
   ]
  },
  {
   "cell_type": "code",
   "execution_count": 28,
   "metadata": {},
   "outputs": [
    {
     "data": {
      "application/vnd.jupyter.widget-view+json": {
       "model_id": "7167d6a2b4e64712a510f15bf3d1bd1a",
       "version_major": 2,
       "version_minor": 0
      },
      "text/plain": [
       "  0%|          | 0/10000 [00:00<?, ?it/s]"
      ]
     },
     "metadata": {},
     "output_type": "display_data"
    },
    {
     "name": "stdout",
     "output_type": "stream",
     "text": [
      "Wikipedia word count after processing: 103719\n"
     ]
    }
   ],
   "source": [
    "#Faster Wikipedia Preprocessing\n",
    "new_wikipedia_list = []\n",
    "for doc in tqdm(wikipedia_list):    \n",
    "    cleaned_string = clean_string_lowercase(doc) #Clean punctuation\n",
    "    list_of_cleaned_string = cleaned_string.split() #Convert to list\n",
    "    no_stopwords_Wikipedia = remove_stopwords(list_of_cleaned_string) #Remove Stopwords\n",
    "    new_wikipedia_list.append(no_stopwords_Wikipedia)\n",
    "    \n",
    "wikipedia_flattened = [item for sublist in new_wikipedia_list for item in sublist]\n",
    "wikipedia_word_freq = calculate_word_frequency(wikipedia_flattened)\n",
    "print('Wikipedia word count after processing: {}'.format(len(wikipedia_word_freq)))"
   ]
  },
  {
   "cell_type": "code",
   "execution_count": 29,
   "metadata": {},
   "outputs": [
    {
     "data": {
      "text/plain": [
       "('love', 4692)"
      ]
     },
     "execution_count": 29,
     "metadata": {},
     "output_type": "execute_result"
    }
   ],
   "source": [
    "type(reddit_word_freq[0])\n",
    "reddit_word_freq[0]\n",
    "# reddit_word_freq"
   ]
  },
  {
   "cell_type": "code",
   "execution_count": 30,
   "metadata": {},
   "outputs": [],
   "source": [
    "def visualize_word_frequency_log(source_name, word_freq_list):\n",
    "    '''\n",
    "    Plots the frequency of words on a bar graph with a log scale\n",
    "    '''\n",
    "    words = list(zip(*word_freq_list))[0]\n",
    "    frequency = list(zip(*word_freq_list))[1]\n",
    "    x_pos = np.arange(len(words))\n",
    "    \n",
    "    fix, ax = plt.subplots(figsize=(20,8))\n",
    "\n",
    "    plt.bar(x_pos, frequency)\n",
    "    plt.title('Frequency of words with a Log Scale {}'.format(source_name))\n",
    "    ax.set_yscale('log')\n",
    "    ax.set_xticklabels(words, rotation=45)\n",
    "    plt.ylabel('Frequency')\n",
    "    plt.show()\n",
    "    \n",
    "def visualize_word_frequency(source_name, word_freq_list):\n",
    "    '''\n",
    "    Plots the frequency of all words on a bar graph\n",
    "    '''\n",
    "    words = list(zip(*word_freq_list))[0]\n",
    "    frequency = list(zip(*word_freq_list))[1]\n",
    "    x_pos = np.arange(len(words))\n",
    "    \n",
    "    fix, ax = plt.subplots(figsize=(20,8))\n",
    "\n",
    "    plt.bar(x_pos, frequency)\n",
    "    plt.title('Frequency of words from {}'.format(source_name))\n",
    "    ax.set_xticklabels(words, rotation=45)\n",
    "    plt.ylabel('Frequency')\n",
    "    plt.show()\n",
    "\n",
    "def visualize_word_frequency_Top50(source_name, word_freq_list, x_axis_limit=50):\n",
    "    '''\n",
    "    Plots the frequency of the top 50 words on a bar graph\n",
    "    '''\n",
    "    words = list(zip(*word_freq_list))[0][:x_axis_limit]\n",
    "    frequency = list(zip(*word_freq_list))[1][:x_axis_limit]\n",
    "    x_pos = np.arange(len(words))\n",
    "    \n",
    "    fix, ax = plt.subplots(figsize=(20,8))\n",
    "\n",
    "    plt.bar(x_pos, frequency)\n",
    "    plt.title('Frequency of Top 50 words from {}'.format(source_name))\n",
    "    plt.xlim([0, x_axis_limit])\n",
    "    ax.set_xticks(x_pos[:x_axis_limit])\n",
    "    ax.set_xticklabels(words[:x_axis_limit], rotation=45)\n",
    "    plt.ylabel('Frequency')\n",
    "    plt.show()"
   ]
  },
  {
   "cell_type": "code",
   "execution_count": 31,
   "metadata": {},
   "outputs": [
    {
     "data": {
      "application/vnd.jupyter.widget-view+json": {
       "model_id": "ec0b47181a224b019ad00910e9ec4a34",
       "version_major": 2,
       "version_minor": 0
      },
      "text/plain": [
       "  0%|          | 0/2 [00:00<?, ?it/s]"
      ]
     },
     "metadata": {},
     "output_type": "display_data"
    },
    {
     "name": "stderr",
     "output_type": "stream",
     "text": [
      "<ipython-input-30-52e88badf727>:30: UserWarning: FixedFormatter should only be used together with FixedLocator\n",
      "  ax.set_xticklabels(words, rotation=45)\n"
     ]
    },
    {
     "data": {
      "image/png": "[encoded data removed]",
      "text/plain": [
       "<Figure size 1440x576 with 1 Axes>"
      ]
     },
     "metadata": {
      "needs_background": "light"
     },
     "output_type": "display_data"
    },
    {
     "name": "stdout",
     "output_type": "stream",
     "text": [
      "Reddit word count before axis adjustment: 13316\n"
     ]
    },
    {
     "data": {
      "image/png": "[encoded data removed]",
      "text/plain": [
       "<Figure size 1440x576 with 1 Axes>"
      ]
     },
     "metadata": {
      "needs_background": "light"
     },
     "output_type": "display_data"
    },
    {
     "name": "stdout",
     "output_type": "stream",
     "text": [
      "Wikipedia word count before axis adjustment: 103719\n"
     ]
    }
   ],
   "source": [
    "#Average runtime: 8:34\n",
    "word_frequency_comparison = {'Reddit': reddit_word_freq,'Wikipedia': wikipedia_word_freq}\n",
    "\n",
    "for key, val in tqdm(word_frequency_comparison.items()):\n",
    "    visualize_word_frequency(source_name=key, word_freq_list=val)\n",
    "    print('{} word count before axis adjustment: {}'.format(key, len(val)))"
   ]
  },
  {
   "cell_type": "code",
   "execution_count": 32,
   "metadata": {},
   "outputs": [
    {
     "data": {
      "application/vnd.jupyter.widget-view+json": {
       "model_id": "7569528c1e414adeb19727c52a64f44c",
       "version_major": 2,
       "version_minor": 0
      },
      "text/plain": [
       "  0%|          | 0/2 [00:00<?, ?it/s]"
      ]
     },
     "metadata": {},
     "output_type": "display_data"
    },
    {
     "data": {
      "image/png": "[encoded data removed]",
      "text/plain": [
       "<Figure size 1440x576 with 1 Axes>"
      ]
     },
     "metadata": {
      "needs_background": "light"
     },
     "output_type": "display_data"
    },
    {
     "name": "stdout",
     "output_type": "stream",
     "text": [
      "Reddit word count before axis adjustment: 13316\n"
     ]
    },
    {
     "data": {
      "image/png": "[encoded data removed]",
      "text/plain": [
       "<Figure size 1440x576 with 1 Axes>"
      ]
     },
     "metadata": {
      "needs_background": "light"
     },
     "output_type": "display_data"
    },
    {
     "name": "stdout",
     "output_type": "stream",
     "text": [
      "Wikipedia word count before axis adjustment: 103719\n"
     ]
    }
   ],
   "source": [
    "#average runtime: 0:10\n",
    "word_frequency_comparison = {'Reddit': reddit_word_freq,'Wikipedia': wikipedia_word_freq}\n",
    "\n",
    "for key, val in tqdm(word_frequency_comparison.items()):\n",
    "    visualize_word_frequency_Top50(source_name=key, word_freq_list=val, x_axis_limit=50)\n",
    "    print('{} word count before axis adjustment: {}'.format(key, len(val)))"
   ]
  },
  {
   "cell_type": "code",
   "execution_count": 33,
   "metadata": {},
   "outputs": [
    {
     "data": {
      "application/vnd.jupyter.widget-view+json": {
       "model_id": "d234deb8073f4a4d876664b3f8214786",
       "version_major": 2,
       "version_minor": 0
      },
      "text/plain": [
       "  0%|          | 0/2 [00:00<?, ?it/s]"
      ]
     },
     "metadata": {},
     "output_type": "display_data"
    },
    {
     "name": "stderr",
     "output_type": "stream",
     "text": [
      "<ipython-input-30-52e88badf727>:14: UserWarning: FixedFormatter should only be used together with FixedLocator\n",
      "  ax.set_xticklabels(words, rotation=45)\n"
     ]
    },
    {
     "data": {
      "image/png": "[encoded data removed]",
      "text/plain": [
       "<Figure size 1440x576 with 1 Axes>"
      ]
     },
     "metadata": {
      "needs_background": "light"
     },
     "output_type": "display_data"
    },
    {
     "name": "stdout",
     "output_type": "stream",
     "text": [
      "Total Reddit word count: 13316\n"
     ]
    },
    {
     "data": {
      "image/png": "[encoded data removed]",
      "text/plain": [
       "<Figure size 1440x576 with 1 Axes>"
      ]
     },
     "metadata": {
      "needs_background": "light"
     },
     "output_type": "display_data"
    },
    {
     "name": "stdout",
     "output_type": "stream",
     "text": [
      "Total Wikipedia word count: 103719\n"
     ]
    }
   ],
   "source": [
    "#Average runtime: 10:06\n",
    "word_frequency_comparison = {'Reddit': reddit_word_freq,'Wikipedia': wikipedia_word_freq}\n",
    "\n",
    "for key, val in tqdm(word_frequency_comparison.items()):\n",
    "    visualize_word_frequency_log(source_name=key, word_freq_list=val)\n",
    "    print('Total {} word count: {}'.format(key, len(val)))"
   ]
  },
  {
   "cell_type": "markdown",
   "metadata": {},
   "source": [
    "The six visualizations above are, in order, two regular frequency distributions, two Top 50 words distributions, and two power-law distributions for both Reddit and Wikipedia. The power-law distributions match typical power-law distributions seen on Google Images. However, they look slightly different from the regular distributions. The Regular distributions are almost impossible to see until you limit the X-axis to the top 50 words. This is because the amount of words with high frequencies are a small portion of the larger corpus, making their bars on the graph almost impossible to see. Applying a logarithm normalizes the y-axis making the regular distribution visible. "
   ]
  },
  {
   "cell_type": "markdown",
   "metadata": {},
   "source": [
    "#### 2. (10 points) Now compare the two collections more rigorously. Report the following properties of each collection, using SpaCy to POS tag. Can you explain these differences based on the nature of the two collections?\n",
    "\n",
    "a) frequency of stopwords (percentage of the word occurrences that are stopwords.)\n",
    "\n",
    "b) percentage of capital letters\n",
    "\n",
    "c) average number of characters per word\n",
    "\n",
    "d) percentage of nouns, adjectives, verbs, adverbs, and pronouns\n",
    "\n",
    "e) the top 10 nouns, top 10 verbs, and top 10 adjectives"
   ]
  },
  {
   "cell_type": "code",
   "execution_count": 34,
   "metadata": {},
   "outputs": [
    {
     "data": {
      "application/vnd.jupyter.widget-view+json": {
       "model_id": "44f23d481ec84eba951233aa0edc10c2",
       "version_major": 2,
       "version_minor": 0
      },
      "text/plain": [
       "  0%|          | 0/20000 [00:00<?, ?it/s]"
      ]
     },
     "metadata": {},
     "output_type": "display_data"
    }
   ],
   "source": [
    "reddit_list_WITH_stopwords = []\n",
    "reddit_list_WITHOUT_stopwords = []\n",
    "for doc in tqdm(reddit_list):\n",
    "    cleaned_string = clean_string_lowercase(doc) #Clean punctuation\n",
    "    list_of_cleaned_string = cleaned_string.split() #Convert to list\n",
    "    reddit_list_WITH_stopwords.append(list_of_cleaned_string) #Append to Reddit list WITH stopwords\n",
    "    no_stopwords_Reddit = remove_stopwords(list_of_cleaned_string) #Remove stopwords\n",
    "    reddit_list_WITHOUT_stopwords.append(no_stopwords_Reddit) #Append to Reddit list WITHOUT stopwords"
   ]
  },
  {
   "cell_type": "code",
   "execution_count": 35,
   "metadata": {},
   "outputs": [
    {
     "data": {
      "application/vnd.jupyter.widget-view+json": {
       "model_id": "b03c32cfbc224eec8c7aca7d1b54cd48",
       "version_major": 2,
       "version_minor": 0
      },
      "text/plain": [
       "  0%|          | 0/10000 [00:00<?, ?it/s]"
      ]
     },
     "metadata": {},
     "output_type": "display_data"
    }
   ],
   "source": [
    "wikipedia_list_WITH_stopwords = []\n",
    "wikipedia_list_WITHOUT_stopwords = []\n",
    "for doc in tqdm(wikipedia_list):\n",
    "    cleaned_string = clean_string_lowercase(doc) #Clean punctuation\n",
    "    list_of_cleaned_string = cleaned_string.split() #Convert to list\n",
    "    wikipedia_list_WITH_stopwords.append(list_of_cleaned_string) #Append to Reddit list WITH stopwords\n",
    "    no_stopwords_Wikipedia = remove_stopwords(list_of_cleaned_string) #Remove stopwords\n",
    "    wikipedia_list_WITHOUT_stopwords.append(no_stopwords_Wikipedia) #Append to Reddit list WITHOUT stopwords"
   ]
  },
  {
   "cell_type": "code",
   "execution_count": 36,
   "metadata": {},
   "outputs": [
    {
     "name": "stdout",
     "output_type": "stream",
     "text": [
      "a) Reddit frequency of stopwords (percentage of the word occurrences that are stopwords): 0.412\n",
      "a) Wikipedia frequency of stopwords (percentage of the word occurrences that are stopwords): 0.596\n"
     ]
    }
   ],
   "source": [
    "reddit_flattened_NO_SW = [item for sublist in reddit_list_WITHOUT_stopwords for item in sublist]\n",
    "reddit_flattened_SW = [item for sublist in reddit_list_WITH_stopwords for item in sublist]\n",
    "withoutSW_count = len(reddit_flattened_NO_SW)\n",
    "withSW_count = len(reddit_flattened_SW)\n",
    "Reddit_math = (withoutSW_count/withSW_count)\n",
    "print(\"a) Reddit frequency of stopwords (percentage of the word occurrences that are stopwords): {}\".format(round(Reddit_math, 3)))\n",
    "\n",
    "wikipedia_flattened_NO_SW = [item for sublist in wikipedia_list_WITHOUT_stopwords for item in sublist]\n",
    "wikipedia_flattened_SW = [item for sublist in wikipedia_list_WITH_stopwords for item in sublist]\n",
    "withoutSW_count = len(wikipedia_flattened_NO_SW)\n",
    "withSW_count = len(wikipedia_flattened_SW)\n",
    "Wikipedia_math = (withoutSW_count/withSW_count)\n",
    "print(\"a) Wikipedia frequency of stopwords (percentage of the word occurrences that are stopwords): {}\".format(round(Wikipedia_math, 3)))"
   ]
  },
  {
   "cell_type": "markdown",
   "metadata": {},
   "source": [
    "Wikipedia has nearly 20% more stopwords when comparing corpuses. This may be due to the fact that Wikipedia entries are more formal writings which conform to conventional English rules whereas Reddit queries might be more casual postings and are more likely to consist of slang or  grammatical errors. "
   ]
  },
  {
   "cell_type": "code",
   "execution_count": 37,
   "metadata": {},
   "outputs": [
    {
     "data": {
      "application/vnd.jupyter.widget-view+json": {
       "model_id": "3ddfa21191d84f548e826cf01bfb345b",
       "version_major": 2,
       "version_minor": 0
      },
      "text/plain": [
       "  0%|          | 0/20000 [00:00<?, ?it/s]"
      ]
     },
     "metadata": {},
     "output_type": "display_data"
    }
   ],
   "source": [
    "reddit_uppercase_count = 0\n",
    "reddit_total_char = 0\n",
    "for doc in tqdm(reddit_list):\n",
    "    cleaned_str = clean_string_preserve_uppercase(doc)\n",
    "    uppercase_count = sum(1 for element in cleaned_str if element.isupper())\n",
    "    total_count = len(cleaned_str)\n",
    "    reddit_uppercase_count += uppercase_count\n",
    "    reddit_total_char += total_count"
   ]
  },
  {
   "cell_type": "code",
   "execution_count": 38,
   "metadata": {},
   "outputs": [
    {
     "data": {
      "application/vnd.jupyter.widget-view+json": {
       "model_id": "f34931b4c17c4e6ab36ee1755aa0901a",
       "version_major": 2,
       "version_minor": 0
      },
      "text/plain": [
       "  0%|          | 0/10000 [00:00<?, ?it/s]"
      ]
     },
     "metadata": {},
     "output_type": "display_data"
    }
   ],
   "source": [
    "wikipedia_uppercase_count = 0\n",
    "wikipedia_total_char = 0\n",
    "for doc in tqdm(wikipedia_list):\n",
    "    cleaned_str = clean_string_preserve_uppercase(doc)\n",
    "    uppercase_count = sum(1 for element in cleaned_str if element.isupper())\n",
    "    total_count = len(cleaned_str)\n",
    "    wikipedia_uppercase_count += uppercase_count\n",
    "    wikipedia_total_char += total_count"
   ]
  },
  {
   "cell_type": "code",
   "execution_count": 39,
   "metadata": {},
   "outputs": [
    {
     "name": "stdout",
     "output_type": "stream",
     "text": [
      "b) Reddit's percentage of characters that are uppercase: 0.023959792054326766\n",
      "b) Wikipedia's percentage of characters that are uppercase: 0.05312731716986403\n"
     ]
    }
   ],
   "source": [
    "print(\"b) Reddit's percentage of characters that are uppercase: {}\".format(reddit_uppercase_count/reddit_total_char))\n",
    "print(\"b) Wikipedia's percentage of characters that are uppercase: {}\".format(wikipedia_uppercase_count/wikipedia_total_char))"
   ]
  },
  {
   "cell_type": "markdown",
   "metadata": {},
   "source": [
    "The findings of uppercase characters supports the claim made in part (a) that Wikipedia (5.3%) uses more formal language than Reddit (2.4%) and is more likely to capitalize proper nouns, names, and other causes for capitalization. "
   ]
  },
  {
   "cell_type": "code",
   "execution_count": 40,
   "metadata": {},
   "outputs": [
    {
     "data": {
      "application/vnd.jupyter.widget-view+json": {
       "model_id": "cb149e0125b9401abc9d47c4844bbdec",
       "version_major": 2,
       "version_minor": 0
      },
      "text/plain": [
       "  0%|          | 0/20000 [00:00<?, ?it/s]"
      ]
     },
     "metadata": {},
     "output_type": "display_data"
    }
   ],
   "source": [
    "#Average runtime: 4:30\n",
    "reddit_char_count = []\n",
    "reddit_POS_count = {'NOUN': 0, 'ADJ': 0, 'VERB': 0, 'ADV': 0, 'PRON': 0}\n",
    "reddit_nouns = {}\n",
    "reddit_verbs = {}\n",
    "reddit_adjectives = {}\n",
    "\n",
    "for query in tqdm(reddit_list):\n",
    "    query_nostopwords = remove_stopwords(query.split())\n",
    "    query_nostopwords_str = \" \".join(str(x) for x in query_nostopwords)\n",
    "    query_doc = nlp(query_nostopwords_str)\n",
    "    for token in query_doc:\n",
    "        reddit_char_count.append(len(token))\n",
    "        speech = token.pos_\n",
    "        token = str(token).lower()\n",
    "        if speech in reddit_POS_count.keys():\n",
    "            reddit_POS_count[speech] += 1\n",
    "            if speech == 'NOUN':\n",
    "                if token in reddit_nouns.keys():\n",
    "                    reddit_nouns[token] += 1\n",
    "                else:\n",
    "                    reddit_nouns[token] = 1\n",
    "            elif speech == 'VERB':\n",
    "                if token in reddit_verbs.keys():\n",
    "                    reddit_verbs[token] += 1\n",
    "                else:\n",
    "                    reddit_verbs[token] = 1\n",
    "            elif speech == 'ADJ':\n",
    "                if token in reddit_adjectives.keys():\n",
    "                    reddit_adjectives[token] += 1\n",
    "                else:\n",
    "                    reddit_adjectives[token] = 1"
   ]
  },
  {
   "cell_type": "code",
   "execution_count": 41,
   "metadata": {},
   "outputs": [
    {
     "data": {
      "application/vnd.jupyter.widget-view+json": {
       "model_id": "0318e8aaa3f14f5c8384e6071c027557",
       "version_major": 2,
       "version_minor": 0
      },
      "text/plain": [
       "  0%|          | 0/10000 [00:00<?, ?it/s]"
      ]
     },
     "metadata": {},
     "output_type": "display_data"
    }
   ],
   "source": [
    "#Average runtime: 12:50\n",
    "wiki_char_count = []\n",
    "wiki_POS_count = {'NOUN': 0, 'ADJ': 0, 'VERB': 0, 'ADV': 0, 'PRON': 0}\n",
    "wiki_nouns = {}\n",
    "wiki_verbs = {}\n",
    "wiki_adjectives = {}\n",
    "\n",
    "for text in tqdm(wikipedia_list):\n",
    "    query_nostopwords = remove_stopwords(text.split())\n",
    "    query_nostopwords_str = \" \".join(str(x) for x in query_nostopwords)\n",
    "    wikipedia_doc = nlp(query_nostopwords_str)\n",
    "    for token in wikipedia_doc:\n",
    "        wiki_char_count.append(len(token))\n",
    "        speech = token.pos_\n",
    "        token = str(token).lower()\n",
    "        if speech in wiki_POS_count.keys():\n",
    "            wiki_POS_count[speech] += 1\n",
    "            if speech == 'NOUN':\n",
    "                if token in wiki_nouns.keys():\n",
    "                    wiki_nouns[token] += 1\n",
    "                else:\n",
    "                    wiki_nouns[token] = 1\n",
    "            elif speech == 'VERB':\n",
    "                if token in wiki_verbs.keys():\n",
    "                    wiki_verbs[token] += 1\n",
    "                else:\n",
    "                    wiki_verbs[token] = 1\n",
    "            elif speech == 'ADJ':\n",
    "                if token in wiki_adjectives.keys():\n",
    "                    wiki_adjectives[token] += 1\n",
    "                else:\n",
    "                    wiki_adjectives[token] = 1"
   ]
  },
  {
   "cell_type": "code",
   "execution_count": 42,
   "metadata": {},
   "outputs": [
    {
     "name": "stdout",
     "output_type": "stream",
     "text": [
      "c) Reddit's average number of characters per word:    4.231\n",
      "c) Wikipedia's average number of characters per word: 4.8076\n"
     ]
    }
   ],
   "source": [
    "average_char_per_word_reddit = round(sum(reddit_char_count) / len(reddit_char_count), 4)\n",
    "average_char_per_word_wiki = round(sum(wiki_char_count) / len(wiki_char_count), 4)\n",
    "\n",
    "print(\"c) Reddit's average number of characters per word:    {}\".format(average_char_per_word_reddit))\n",
    "print(\"c) Wikipedia's average number of characters per word: {}\".format(average_char_per_word_wiki))"
   ]
  },
  {
   "cell_type": "markdown",
   "metadata": {},
   "source": [
    "The difference in average characters per word is less significant which may due to the fact that many of the most commonly used words in the English language are around four or five characters. However, Wikipedia is still bigger, perhaps because the writings are more formal and autobiographical in nature like \"Francisco Reddinetti was a Carpathian in Ancient Rome\" whereas Reddit queries are more simple questions such as \"What's your pet's name?\""
   ]
  },
  {
   "cell_type": "code",
   "execution_count": 43,
   "metadata": {},
   "outputs": [
    {
     "data": {
      "text/html": [
       "<div>\n",
       "<style scoped>\n",
       "    .dataframe tbody tr th:only-of-type {\n",
       "        vertical-align: middle;\n",
       "    }\n",
       "\n",
       "    .dataframe tbody tr th {\n",
       "        vertical-align: top;\n",
       "    }\n",
       "\n",
       "    .dataframe thead th {\n",
       "        text-align: right;\n",
       "    }\n",
       "</style>\n",
       "<table border=\"1\" class=\"dataframe\">\n",
       "  <thead>\n",
       "    <tr style=\"text-align: right;\">\n",
       "      <th></th>\n",
       "      <th>Source</th>\n",
       "      <th>NOUN</th>\n",
       "      <th>ADJ</th>\n",
       "      <th>VERB</th>\n",
       "      <th>ADV</th>\n",
       "      <th>PRON</th>\n",
       "      <th>Total Words</th>\n",
       "      <th>NOUN %</th>\n",
       "      <th>ADJ %</th>\n",
       "      <th>VERB %</th>\n",
       "      <th>ADV %</th>\n",
       "      <th>PRON %</th>\n",
       "    </tr>\n",
       "  </thead>\n",
       "  <tbody>\n",
       "    <tr>\n",
       "      <th>0</th>\n",
       "      <td>Reddit</td>\n",
       "      <td>59151</td>\n",
       "      <td>18775</td>\n",
       "      <td>33661</td>\n",
       "      <td>9108</td>\n",
       "      <td>15934</td>\n",
       "      <td>208122</td>\n",
       "      <td>0.284</td>\n",
       "      <td>0.090</td>\n",
       "      <td>0.162</td>\n",
       "      <td>0.044</td>\n",
       "      <td>0.077</td>\n",
       "    </tr>\n",
       "    <tr>\n",
       "      <th>1</th>\n",
       "      <td>Wikipedia</td>\n",
       "      <td>350398</td>\n",
       "      <td>107944</td>\n",
       "      <td>194685</td>\n",
       "      <td>26747</td>\n",
       "      <td>34181</td>\n",
       "      <td>1843775</td>\n",
       "      <td>0.190</td>\n",
       "      <td>0.059</td>\n",
       "      <td>0.106</td>\n",
       "      <td>0.015</td>\n",
       "      <td>0.019</td>\n",
       "    </tr>\n",
       "  </tbody>\n",
       "</table>\n",
       "</div>"
      ],
      "text/plain": [
       "      Source    NOUN     ADJ    VERB    ADV   PRON  Total Words  NOUN %  \\\n",
       "0     Reddit   59151   18775   33661   9108  15934       208122   0.284   \n",
       "1  Wikipedia  350398  107944  194685  26747  34181      1843775   0.190   \n",
       "\n",
       "   ADJ %  VERB %  ADV %  PRON %  \n",
       "0  0.090   0.162  0.044   0.077  \n",
       "1  0.059   0.106  0.015   0.019  "
      ]
     },
     "execution_count": 43,
     "metadata": {},
     "output_type": "execute_result"
    }
   ],
   "source": [
    "reddit_word_count = len(reddit_char_count)\n",
    "wiki_word_count = len(wiki_char_count)\n",
    "\n",
    "reddit_df = pd.DataFrame(reddit_POS_count, index=[0])\n",
    "wiki_df = pd.DataFrame(wiki_POS_count, index=[0])\n",
    "POS_df = pd.concat([reddit_df, wiki_df], ignore_index=True)\n",
    "POS_df.insert(0, \"Source\", ['Reddit', 'Wikipedia'])\n",
    "POS_df['Total Words'] = [reddit_word_count, wiki_word_count]\n",
    "POS_df['NOUN %'] = [round((reddit_POS_count['NOUN']/reddit_word_count), 3), round((wiki_POS_count['NOUN']/wiki_word_count), 3)]\n",
    "POS_df['ADJ %'] = [round((reddit_POS_count['ADJ']/reddit_word_count), 3), round((wiki_POS_count['ADJ']/wiki_word_count), 3)]\n",
    "POS_df['VERB %'] = [round((reddit_POS_count['VERB']/reddit_word_count), 3), round((wiki_POS_count['VERB']/wiki_word_count), 3)]\n",
    "POS_df['ADV %'] = [round((reddit_POS_count['ADV']/reddit_word_count), 3), round((wiki_POS_count['ADV']/wiki_word_count), 3)]\n",
    "POS_df['PRON %'] = [round((reddit_POS_count['PRON']/reddit_word_count), 3), round((wiki_POS_count['PRON']/wiki_word_count), 3)]\n",
    "POS_df"
   ]
  },
  {
   "cell_type": "markdown",
   "metadata": {},
   "source": [
    "d) The findings of the percentage of nouns, adjectives, verbs, adverbs, and pronouns for both corpuses is displayed in the dataframe above. Reddit has a slightly higher percentage in every category. Notably large differences are in nouns with a difference of 9.4%."
   ]
  },
  {
   "cell_type": "code",
   "execution_count": 44,
   "metadata": {},
   "outputs": [],
   "source": [
    "import operator\n",
    "\n",
    "def sort_dictionary(dictionary):\n",
    "    return sorted(dictionary.items(), key=operator.itemgetter(1), reverse=True)"
   ]
  },
  {
   "cell_type": "code",
   "execution_count": 45,
   "metadata": {},
   "outputs": [
    {
     "name": "stdout",
     "output_type": "stream",
     "text": [
      "\n",
      "Top 10 Reddit Nouns: \n",
      "food (4576)\n",
      "love (3217)\n",
      "people (2210)\n",
      "college (1535)\n",
      "thing (1272)\n",
      "life (876)\n",
      "reddit (651)\n",
      "time (617)\n",
      "story (460)\n",
      "redditors (456)\n",
      "\n",
      "Top 10 Reddit Verbs: \n",
      "love (1479)\n",
      "loved (867)\n",
      "'s (663)\n",
      "think (634)\n",
      "know (574)\n",
      "eat (572)\n",
      "make (565)\n",
      "’s (515)\n",
      "reddit (478)\n",
      "made (467)\n",
      "\n",
      "Top 10 Reddit Adjectives: \n",
      "best (764)\n",
      "fast (683)\n",
      "good (542)\n",
      "favorite (534)\n",
      "serious (351)\n",
      "weirdest (312)\n",
      "weird (294)\n",
      "bad (200)\n",
      "high (198)\n",
      "new (162)\n",
      "\n",
      "Top 10 Wikipedia Nouns: \n",
      "career (5995)\n",
      "season (4313)\n",
      "life (3993)\n",
      "years (3511)\n",
      "time (3387)\n",
      "team (3287)\n",
      "club (2094)\n",
      "year (1989)\n",
      "member (1946)\n",
      "family (1845)\n",
      "\n",
      "Top 10 Wikipedia Verbs: \n",
      "born (5127)\n",
      "played (3137)\n",
      "made (2999)\n",
      "won (2301)\n",
      "died (2264)\n",
      "served (2004)\n",
      "married (1808)\n",
      "began (1744)\n",
      "worked (1698)\n",
      "joined (1621)\n",
      "\n",
      "Top 10 Wikipedia Adjectives: \n",
      "early (2957)\n",
      "second (1847)\n",
      "- (1599)\n",
      "new (1421)\n",
      "former (1362)\n",
      "personal (1291)\n",
      "professional (1211)\n",
      "american (1200)\n",
      "national (1111)\n",
      "final (1081)\n"
     ]
    }
   ],
   "source": [
    "top10 = {\n",
    "    'Top 10 Reddit Nouns': sort_dictionary(reddit_nouns)[:10],\n",
    "    'Top 10 Reddit Verbs': sort_dictionary(reddit_verbs)[:10],\n",
    "    'Top 10 Reddit Adjectives': sort_dictionary(reddit_adjectives)[:10],\n",
    "    'Top 10 Wikipedia Nouns': sort_dictionary(wiki_nouns)[:10],\n",
    "    'Top 10 Wikipedia Verbs': sort_dictionary(wiki_verbs)[:10],\n",
    "    'Top 10 Wikipedia Adjectives': sort_dictionary(wiki_adjectives)[:10]}\n",
    "\n",
    "for key, val_dict in top10.items():\n",
    "    print(\"\")\n",
    "    print(\"{}: \".format(key))\n",
    "    for key, val in val_dict:\n",
    "        print(\"{} ({})\".format(key, val))"
   ]
  },
  {
   "cell_type": "markdown",
   "metadata": {},
   "source": [
    "The nouns, verbs, and adjectives for the Reddit and Wikipedia corpus have been listed above. Nouns are more generalized in the Reddit corpus (e.g. food, college, thing, life, story) than the Wikipedia corpus (e.g. career, time, team, club, member). This may be due to some bias in the Wikipedia entries included in the file. They may have a general theme such as a business or sports team. \n",
    "\n",
    "The verbs are also noticeably different. Wikipedia's verbs are more expressive in nature (e.g. played, won, died, served, joined) than Reddit's verbs which are more plain and typical of daily language (e.g. love, think, know, make). \n",
    "\n",
    "The adjectives are also unique across corpuses. Wikipedia's adjectives are descriptive in a biographical sense (e.g. second, former, professional, national) while Reddit's adjectives are most likely servicing a user's opinion (e.g. best, good, favorite, weird, bad). "
   ]
  },
  {
   "cell_type": "markdown",
   "metadata": {},
   "source": [
    "#### 3. (10 points) We would like to summarize each document with a few words. However, picking the most frequently used words in each document would be a bad idea, since they are more likely to appear in other document as well. Instead, we pick the words with the highest TF-IDF weights in each document. In this problem, term frequency (TF) and inverse document frequency (IDF) are defined as:\n",
    "\n",
    "TF(t; d) = log(c(t; d) + 1)\n",
    "\n",
    "IDF(t) = 1 + log(N=k):\n",
    "\n",
    "#### c(t; d) is the frequency count of term t in doc d, N is the total number of documents in the collection, and k is the document frequency of term t in the collection. For each of the first 10 documents in the Wikipedia biographies collection, print out the 5 words that have the highest TF-IDF weights. Write whether you think these could be a good summary of the documents."
   ]
  },
  {
   "cell_type": "code",
   "execution_count": 46,
   "metadata": {},
   "outputs": [
    {
     "data": {
      "application/vnd.jupyter.widget-view+json": {
       "model_id": "54c78f5e194c4590baf83a2b92c48401",
       "version_major": 2,
       "version_minor": 0
      },
      "text/plain": [
       "  0%|          | 0/10 [00:00<?, ?it/s]"
      ]
     },
     "metadata": {},
     "output_type": "display_data"
    }
   ],
   "source": [
    "from tqdm.auto import tqdm\n",
    "\n",
    "texts = []\n",
    "corpus_count = 10\n",
    "for text in tqdm(wikipedia_list[:corpus_count]):\n",
    "    texts.append(text)"
   ]
  },
  {
   "cell_type": "code",
   "execution_count": 47,
   "metadata": {},
   "outputs": [],
   "source": [
    "#This part calculates the number of times a term appears in a document\n",
    "# The output is a dictionary with ('term', document index) = frequency\n",
    "term_freq = {}\n",
    "for index in range(len(texts)):\n",
    "    text = texts[index]\n",
    "    for word in text.split():\n",
    "        word = word.lower()\n",
    "        if (word, index) not in term_freq:\n",
    "            term_freq[(word, index)] = 1\n",
    "        else:\n",
    "            term_freq[(word, index)] += 1"
   ]
  },
  {
   "cell_type": "code",
   "execution_count": 48,
   "metadata": {},
   "outputs": [],
   "source": [
    "def document_frequency(word):\n",
    "    doc_count = 0\n",
    "    for index in range(corpus_count):\n",
    "        if (word, index) in term_freq:\n",
    "            doc_count += 1\n",
    "        else:\n",
    "            pass\n",
    "    return doc_count"
   ]
  },
  {
   "cell_type": "code",
   "execution_count": 49,
   "metadata": {},
   "outputs": [],
   "source": [
    "from collections import Counter\n",
    "'''\n",
    "    TF-IDF Score = TF * IDF\n",
    "        - Formula is TF-IDF(t, d) = tf(t, d) * log(N/(df + 1))\n",
    "        - t = term (word)\n",
    "        - d = document (set of words)\n",
    "        - N = count of corpus\n",
    "        - corpus = the total document set\n",
    "    \n",
    "    TF = Term Frequency (measures the frequency of a word in a document, depends on the\n",
    "    length of the document and the generality of the word)\n",
    "        - Formula for TF(t,d) = (count of t in d) / (number of words in d)\n",
    "        - Formula for TF(t,d) = log((count of t in d) + 1)\n",
    "        \n",
    "    IDF = Inverse Document Frequency (measures the informativeness of term t. IDF will\n",
    "    be very low for stopwords)\n",
    "        - Formula for IDF(t) = log(N/df + 1)\n",
    "'''\n",
    "doc = 0\n",
    "tf_idf = {}\n",
    "\n",
    "for i in range(corpus_count):\n",
    "    words = texts[i]\n",
    "    counter = Counter(words.split() + texts[i].split()) \n",
    "    words_count = len(words + texts[i])\n",
    "        \n",
    "    for word in words.split():\n",
    "#         tf = counter[word] / words_count #alternative way of doing this\n",
    "        tf = np.log((counter[word]) + 1)\n",
    "        df = document_frequency(word)\n",
    "        idf = np.log((corpus_count)/(df+1)) \n",
    "        tf_idf[doc, word] = tf*idf\n",
    "\n",
    "    doc += 1"
   ]
  },
  {
   "cell_type": "code",
   "execution_count": 50,
   "metadata": {},
   "outputs": [],
   "source": [
    "tf_idfs = []\n",
    "for i in range(corpus_count):\n",
    "    doc_dict = {}\n",
    "    for key_tuple, value in tf_idf.items():\n",
    "        if key_tuple[0] == i:\n",
    "            doc_dict[key_tuple[1]] = value\n",
    "        else:\n",
    "            pass\n",
    "    #print(doc_dict)\n",
    "    sorted_counter = sorted(doc_dict.items(), key=operator.itemgetter(1), reverse=True)\n",
    "    top5 = sorted_counter[:5]\n",
    "    tf_idfs.append(top5)"
   ]
  },
  {
   "cell_type": "code",
   "execution_count": 51,
   "metadata": {},
   "outputs": [
    {
     "name": "stdout",
     "output_type": "stream",
     "text": [
      "Top 5 IF_TDF Scores for Document 0\n",
      "He : 3.70587\n",
      "Francesco : 2.52965\n",
      "Redenti : 2.52965\n",
      "Italian : 2.52965\n",
      "Correggio : 2.52965\n",
      "\n",
      "Top 5 IF_TDF Scores for Document 1\n",
      "Deacon : 3.70587\n",
      "Winter : 3.70587\n",
      "Olympics. : 3.70587\n",
      "1936 : 3.13182\n",
      "ice : 2.59029\n",
      "\n",
      "Top 5 IF_TDF Scores for Document 2\n",
      "Hugh : 2.52965\n",
      "Watlington : 2.52965\n",
      "March : 2.52965\n",
      "Bermudian : 2.52965\n",
      "He : 2.52965\n",
      "\n",
      "Top 5 IF_TDF Scores for Document 3\n",
      "Ershad : 9.74939\n",
      "Awami : 7.58894\n",
      "Jatiya : 7.58894\n",
      "Party : 7.41174\n",
      "League : 7.01027\n",
      "\n",
      "Top 5 IF_TDF Scores for Document 4\n",
      "Im : 2.52965\n",
      "Sang-jo : 2.52965\n",
      "May : 2.52965\n",
      "September : 2.52965\n",
      "South : 2.52965\n",
      "\n",
      "Top 5 IF_TDF Scores for Document 5\n",
      "Husayn : 2.52965\n",
      "Fawzi : 2.52965\n",
      "Al : 2.52965\n",
      "Najjar : 2.52965\n",
      "November : 2.52965\n",
      "\n",
      "Top 5 IF_TDF Scores for Document 6\n",
      "American : 3.70587\n",
      "National : 3.70587\n",
      "Notre : 3.70587\n",
      "football : 2.59029\n",
      "Gregory : 2.52965\n",
      "\n",
      "Top 5 IF_TDF Scores for Document 7\n",
      "Reed : 8.66048\n",
      "In : 7.21974\n",
      "He : 7.01027\n",
      "Northern : 6.77982\n",
      "Great : 6.52371\n",
      "\n",
      "Top 5 IF_TDF Scores for Document 8\n",
      "rugby : 3.13182\n",
      "union : 2.59029\n",
      "Billy : 2.52965\n",
      "Moore : 2.52965\n",
      "February : 2.52965\n",
      "\n",
      "Top 5 IF_TDF Scores for Document 9\n",
      "The : 2.52965\n",
      "Tomb : 2.52965\n",
      "Evrenos : 2.52965\n",
      "Giannitsa, : 2.52965\n",
      "Greece : 2.52965\n",
      "\n"
     ]
    }
   ],
   "source": [
    "for i, doc in enumerate(tf_idfs):\n",
    "    print(\"Top 5 IF_TDF Scores for Document {}\".format(i))\n",
    "    for tup in doc:\n",
    "        print(\"{} : {}\".format(tup[0], round(tup[1], 5)))\n",
    "    print(\"\")"
   ]
  },
  {
   "cell_type": "markdown",
   "metadata": {},
   "source": [
    "Above are the top 5 TF_IDF scores for each of the first 10 documents in the Wikipedia corpus. These scores appear to be good representations of the most discriminant words in their documents. They are rarer than stopwords, but not so rare that they are insignifant within their document. In other words, these seem like words that are instrumental within their documents for understanding the most important parts of that document. For example, this is the full entry for document 6: \n",
    "\n",
    "\"*Gregory Vincent \"Greg\" Collins (born December 8, 1952) is an American actor and a former professional American football player who played in three National Football League seasons from 1975-1977 for the San Francisco 49ers, the Seattle Seahawks and the Buffalo Bills. He played college football at the University of Notre Dame, and played on the 1973 Notre Dame National Championship team under Ara Parseghian.*'\"\n",
    "\n",
    "The passage is autobiography of a football player, so terms related to his name or football career should theoretically have higher TF_IDF scores. As we can see in the top 5 results above, the answers are related: American, National, Notre, football, and Gregory. "
   ]
  },
  {
   "cell_type": "markdown",
   "metadata": {},
   "source": [
    "#### 4. (5 points) As discussed in the class, TF-IDF is a common way to weight the terms in each document. It can also be easily calculated from the inverted index (covered in Week 3), since TF can be obtained from the postings and IDF can be summarized as a dictionary. Could you think of another weighting that cannot be calculated directly from inverted index? What is the advantage of such a weighting?"
   ]
  },
  {
   "cell_type": "markdown",
   "metadata": {},
   "source": [
    "Another method for indexing is the Forward Index. Rather than fetch the words from all docs, the forward index fetches a word and then appends only keywords as it moves forward, making indexing faster than an inverted index. However, a drawback is that searching is slower because it looks through the contents of each index just to retrieva all pages related to a word. "
   ]
  },
  {
   "cell_type": "markdown",
   "metadata": {},
   "source": [
    "## 3. Document Ranking and Evaluation [20 Points]"
   ]
  },
  {
   "cell_type": "markdown",
   "metadata": {},
   "source": [
    "#### Suppose we have a query with a total of 20 relevant documents in a collection of 100 documents. A system has retrieved 20 documents whose relevance status is [++, -, +, ++, -, +,-, ++, +, -, -, +, ++, -, -, +, +, ++, +, -] in the order of ranking. A + or ++ indicates that the corresponding document is relevant, while a - indicates that the corresponding document is non-relevant.\n",
    "\n",
    "- (10 points) Compute the precision, recall, F1 score, and the mean average precision (MAP).\n",
    "- (10 points) Consider ++ as the corresponding document being highly relevant (ri = 2), while + indicates somewhat relevant (ri = 1), - being non-relevant (ri = 0). For the nine rest relevant documents, treat them as somewhat relevant (ri = 1) Calculate the Cumulative Gain (CG) at rank 10, Discounted Cumulative Gain (DCG) at rank 10, and Normalized Cumulative Gain (NDCG), at rank 10. Use log2 for the discounting function.\n",
    "\n",
    "Note You may find the definition of DCG in Wikipedia is different from the definition\n",
    "in our lecture. Please use the one in our lecture to calculate DCG and NDCG. (i.e.\n",
    "DCGp = rel1 + sum(reli/log2i)"
   ]
  },
  {
   "cell_type": "code",
   "execution_count": 52,
   "metadata": {},
   "outputs": [],
   "source": [
    "total_documents = 100\n",
    "statuses = ['++', '-', '+', '++', '-', '+', '-', '++', '+', '-', '-', '+', '++', '-', '-', '+', '+', '++', '+', '-']"
   ]
  },
  {
   "cell_type": "code",
   "execution_count": 53,
   "metadata": {},
   "outputs": [
    {
     "name": "stdout",
     "output_type": "stream",
     "text": [
      "[2, 0, 1, 2, 0, 1, 0, 2, 1, 0, 0, 1, 2, 0, 0, 1, 1, 2, 1, 0]\n"
     ]
    }
   ],
   "source": [
    "highly_relevant = len([status for status in statuses if status == '++'])\n",
    "relevant = len([status for status in statuses if status == '+'])\n",
    "non_relevant = len([status for status in statuses if status == '-'])\n",
    "\n",
    "relevancy_scores = []\n",
    "\n",
    "for status in statuses:\n",
    "    if status == '++':\n",
    "        relevancy_scores.append(2)\n",
    "    elif status == '+':\n",
    "        relevancy_scores.append(1)\n",
    "    elif status == '-':\n",
    "        relevancy_scores.append(0)\n",
    "        \n",
    "print(relevancy_scores)\n",
    "        \n",
    "sorted_relevancy_scores = sorted(relevancy_scores, reverse=True)"
   ]
  },
  {
   "cell_type": "code",
   "execution_count": 54,
   "metadata": {},
   "outputs": [],
   "source": [
    "average_precision_list = []\n",
    "\n",
    "count = 0\n",
    "for i, score in enumerate(relevancy_scores):\n",
    "    if score > 0:\n",
    "        temp = (count + 1) / (i + 1)\n",
    "        average_precision_list.append(temp)\n",
    "        count += 1"
   ]
  },
  {
   "cell_type": "code",
   "execution_count": 55,
   "metadata": {},
   "outputs": [
    {
     "name": "stdout",
     "output_type": "stream",
     "text": [
      "Precision score................0.6\n",
      "Recall score...................0.6\n",
      "F score........................6.666666666666667\n",
      "mean average precision (MAP)...0.6639286084429273\n"
     ]
    }
   ],
   "source": [
    "precision = (highly_relevant + relevant) / (highly_relevant + relevant + non_relevant)\n",
    "recall = (highly_relevant + relevant) / (highly_relevant + relevant + (20 - (highly_relevant + relevant)))\n",
    "f_score = 1 / .5 * ((1 / recall) + (1 / precision))\n",
    "mAP = sum(average_precision_list) / len(average_precision_list)\n",
    "\n",
    "print('Precision score................{}'.format(precision))\n",
    "print('Recall score...................{}'.format(recall))\n",
    "print('F score........................{}'.format(f_score))\n",
    "print('mean average precision (MAP)...{}'.format(mAP))"
   ]
  },
  {
   "cell_type": "code",
   "execution_count": 56,
   "metadata": {},
   "outputs": [],
   "source": [
    "import math\n",
    "\n",
    "def calculate_DCG(score_list):\n",
    "    DCG = 0\n",
    "    for i, score in enumerate(score_list):\n",
    "        nom = float(score)\n",
    "        den = float(math.log2(i + 1))\n",
    "        if den == 0:\n",
    "            continue\n",
    "        else:\n",
    "            DCG += (nom/den)\n",
    "    return DCG"
   ]
  },
  {
   "cell_type": "code",
   "execution_count": 57,
   "metadata": {},
   "outputs": [
    {
     "name": "stdout",
     "output_type": "stream",
     "text": [
      "Cumulative Gain..............................9\n",
      "Discounted Cumulative Gain...................2.9999141042583948\n",
      "Normalized Discounted Cumulative Gain........0.4401217326411618\n"
     ]
    }
   ],
   "source": [
    "import math\n",
    "\n",
    "cumulative_gain = sum(relevancy_scores[:10])\n",
    "discounted_cumulative_gain = calculate_DCG(relevancy_scores[:10])\n",
    "ideal_discounted_cumulative_gain = calculate_DCG(sorted_relevancy_scores[:10])\n",
    "normalized_DCG = discounted_cumulative_gain / ideal_discounted_cumulative_gain\n",
    "        \n",
    "print('Cumulative Gain..............................{}'.format(cumulative_gain)) #Cumulutive Gain is the sum of the relevancy scores\n",
    "print('Discounted Cumulative Gain...................{}'.format(discounted_cumulative_gain)) #DCG accounts for ranking quality in retrieval (the formula penalizes for highly ranked documents in lower rankins)\n",
    "print('Normalized Discounted Cumulative Gain........{}'.format(normalized_DCG)) #NDCG is the ratio of DCG to an idealized DCG"
   ]
  },
  {
   "cell_type": "markdown",
   "metadata": {},
   "source": [
    "## 4. Simple Search (25 Points)"
   ]
  },
  {
   "cell_type": "markdown",
   "metadata": {},
   "source": [
    "#### Let's build a simple search engine using some of the techniques we learned in class and evaluate it in practice both for its ability to retrieve relevant documents and its speed of retrieval. Here, we'll use our Reddit questions and play the role of an auto-suggest: If someone is about to ask a question on Reddit, they can quickly see if someone else has already asked that question by searching for a few keywords. Specifcally, you'll implement a very simple search that (1) measures the cosine similarity of a bag-of-words representation of the query and a bag-of-words representation for a document and (2) returns the k most similar documents to the query.\n",
    "\n",
    "#### To support the basic search functionality, we'll use the scikit-learn package to convert our Reddit questions and queries to bag of words vectors.\n",
    "\n",
    "- (5 points)Write a function that uses CountVectorizer to convert the Reddit questions corpus to vectors. Write a function that given a new query, will convert its text to a vector (using the same vectorizer), estimate the cosine similarity between the query and each document (i.e., each Reddit question) and return the 10 most similar.\n",
    "\n",
    "- (10 points) Using your method: run the following queries and show the questions they return: (1) programming, (2) pets, (3) college, (4) love, and (5) food, and Score each retrieved question for relevance using a three point scale as in Problem 3 (very relevant, somewhat relevant, not relevant), and compute NDCG for each query and report it.\n",
    "\n",
    "- (5 points) In a 2-3 sentences, describe how well you think your IR system is doing. What kids of queries do you think it would work well on? What kinds of queries do you think it will perform poorly on? (Feel free to describe example queries if you want to test things!)"
   ]
  },
  {
   "cell_type": "code",
   "execution_count": 58,
   "metadata": {},
   "outputs": [],
   "source": [
    "files = {'Reddit': 'si650-f21-reddit-questions.txt', 'Stopwords': 'stoplist.txt'}\n",
    "\n",
    "with open(files['Reddit'], encoding='utf-8') as r:\n",
    "    reddit_lines = r.readlines()\n",
    "    query_list = [line.replace('\\n', '') for line in reddit_lines]"
   ]
  },
  {
   "cell_type": "code",
   "execution_count": 59,
   "metadata": {},
   "outputs": [
    {
     "name": "stdout",
     "output_type": "stream",
     "text": [
      "There are 20000 queries in the corpus\n"
     ]
    }
   ],
   "source": [
    "print(\"There are {} queries in the corpus\".format(len(query_list)))"
   ]
  },
  {
   "cell_type": "code",
   "execution_count": 73,
   "metadata": {},
   "outputs": [],
   "source": [
    "from sklearn.feature_extraction.text import CountVectorizer\n",
    "from sklearn.metrics.pairwise import cosine_similarity\n",
    "from sklearn.metrics import ndcg_score\n",
    "import operator\n",
    "import numpy as np\n",
    "\n",
    "def get_query_similarity(query, corpus=query_list):\n",
    "    \"\"\"\n",
    "    vectorizer: CountVectorizer model\n",
    "    query: query doc\n",
    "    return: dictionary with corpus index: cosine similarity score between query and all docs\n",
    "    \"\"\"\n",
    "    vectorizer = CountVectorizer(stop_words=\"english\")\n",
    "    corpus_vectors = vectorizer.fit_transform(corpus)\n",
    "    query_vector = vectorizer.transform([query]) #converts the text to a vector using the same vectorizer\n",
    "    cosineSimilarities = cosine_similarity(corpus_vectors, query_vector).flatten()\n",
    "    \n",
    "    cosine_dict = {}\n",
    "    for i, score in enumerate(cosineSimilarities):\n",
    "        cosine_dict[i] = score\n",
    "    \n",
    "    top10_cosines = sorted(cosine_dict.items(), key=operator.itemgetter(1), reverse=True)[:10]\n",
    "    \n",
    "    predicted_relevance_dict = {}\n",
    "    for tup in top10_cosines:\n",
    "        predicted_relevance_dict[tup[0]] = tup[1]\n",
    "        \n",
    "    true_relevance_dict = {}\n",
    "    for index, tuple_score in enumerate(top10_cosines):\n",
    "        if tuple_score[1] > 0.90:\n",
    "            true_relevance_dict[index] = 1\n",
    "        elif 0.45 < tuple_score[1] < 0.90:\n",
    "            true_relevance_dict[index] = 0\n",
    "        else:\n",
    "            true_relevance_dict[index] = -1\n",
    "\n",
    "    true_rel = np.asarray([list(true_relevance_dict.values())])\n",
    "    predicted_rel = np.asarray([list(predicted_relevance_dict.values())])\n",
    "    \n",
    "    return (top10_cosines, ndcg_score(true_rel, predicted_rel))"
   ]
  },
  {
   "cell_type": "code",
   "execution_count": 74,
   "metadata": {},
   "outputs": [],
   "source": [
    "def print_top10_matches(query):\n",
    "    query_vector = get_query_similarity(query)\n",
    "    print(\"Top 10 Cosine Similarity Scores and Reddit queries for '{}': \".format(query))\n",
    "    print(\"NDCG Score for results: {}\".format(query_vector[1]))\n",
    "    for i, score in enumerate(query_vector[0]): \n",
    "        doc_text = query_list[score[0]]\n",
    "        print(\"   {}: (score: {}): {}\".format(i + 1, round(score[1], 5), doc_text))\n",
    "    print(\"\")"
   ]
  },
  {
   "cell_type": "code",
   "execution_count": 75,
   "metadata": {},
   "outputs": [
    {
     "name": "stdout",
     "output_type": "stream",
     "text": [
      "Top 10 Cosine Similarity Scores and Reddit queries for 'programming': \n",
      "NDCG Score for results: 0.0\n",
      "   1: (score: 0.70711): How to start programming? What are important things i have to learn in programming?\n",
      "   2: (score: 0.70711): Where can i find programming podcast?\n",
      "   3: (score: 0.70711): How to start programming?\n",
      "   4: (score: 0.57735): Which language programming do you prefer?\n",
      "   5: (score: 0.57735): What is your favorite programming language and why?\n",
      "   6: (score: 0.57735): Programmers, what do you like about programming?\n",
      "   7: (score: 0.57735): What tip would you give to someone who's a newbie in programming ?\n",
      "   8: (score: 0.57735): Do you like your programming job? If not, why?\n",
      "   9: (score: 0.57735): What is your best quotes about programming?\n",
      "   10: (score: 0.5): What is the best way to teach myself programming?\n",
      "\n",
      "Top 10 Cosine Similarity Scores and Reddit queries for 'pets': \n",
      "NDCG Score for results: 1.0\n",
      "   1: (score: 1.0): What's your pets name?\n",
      "   2: (score: 1.0): What was your first pets name?\n",
      "   3: (score: 1.0): What's your pets name?\n",
      "   4: (score: 1.0): What is your pets name?\n",
      "   5: (score: 1.0): What is your pets name?\n",
      "   6: (score: 1.0): What’s your pets name??\n",
      "   7: (score: 1.0): What is your pets name?\n",
      "   8: (score: 1.0): What's your pets name and why?\n",
      "   9: (score: 1.0): What's your pets name?\n",
      "   10: (score: 0.8165): How would it go for you if you woke up as one of your pets, and all your pets became human?\n",
      "\n",
      "Top 10 Cosine Similarity Scores and Reddit queries for 'college': \n",
      "NDCG Score for results: 1.0\n",
      "   1: (score: 1.0): If you could go back, would you go to college?\n",
      "   2: (score: 0.8165): College dropouts what finally made you give up on college?\n",
      "   3: (score: 0.8165): College dropouts what finally made you give up on college\n",
      "   4: (score: 0.75593): What college elective class have you found useful now that you're out of college?\n",
      "   5: (score: 0.75593): What’s okay if you’re a college freshman, but not if you’re a college senior?\n",
      "   6: (score: 0.75593): For those with a college degree; do you regret going to college? Why or why not?\n",
      "   7: (score: 0.75593): College graduates, where do you store all your materials after college?\n",
      "   8: (score: 0.75): Current college students or college grads: What is (was) your favorite thing about going to college and being on campus?\n",
      "   9: (score: 0.75): College attending folks, or those that have attended college, what do you wish someone would have told you prior to starting college?\n",
      "   10: (score: 0.75): I'm about to finish HighSchool and I'm going to college. What advice would you give to a someone who is about to go to college and what advice would you give to someone after college?\n",
      "\n",
      "Top 10 Cosine Similarity Scores and Reddit queries for 'love': \n",
      "NDCG Score for results: 1.0\n",
      "   1: (score: 1.0): Never been in love\n",
      "   2: (score: 1.0): What do you love most about yourself?\n",
      "   3: (score: 1.0): What do you love most about your SO?\n",
      "   4: (score: 1.0): What do you love most about yourself?\n",
      "   5: (score: 1.0): Why do you love me so much?\n",
      "   6: (score: 1.0): What do u love to do?\n",
      "   7: (score: 1.0): What is love?\n",
      "   8: (score: 1.0): What is love to you?\n",
      "   9: (score: 1.0): what do you love?\n",
      "   10: (score: 1.0): What is love and what is not love?\n",
      "\n",
      "Top 10 Cosine Similarity Scores and Reddit queries for 'food': \n",
      "NDCG Score for results: 1.0\n",
      "   1: (score: 1.0): If you were a food, what would you be?\n",
      "   2: (score: 1.0): What food can you never get enough of? Why is that?\n",
      "   3: (score: 0.83205): People in food service or food prep, have you ever spit in someone’s food?\n",
      "   4: (score: 0.8165): What would be too much food for a day? (Give food examples)\n",
      "   5: (score: 0.8165): If you could eat only one type of food what food would that be and why?\n",
      "   6: (score: 0.8165): What is your “I love this food so much a could eat it all” food?\n",
      "   7: (score: 0.8165): What is your “I love this food so much a could eat it all” food?\n",
      "   8: (score: 0.8165): What are some food vs food debates? Also which side are you on?\n",
      "   9: (score: 0.8165): Food Now tastes as it smells, what food would you have first and why?\n",
      "   10: (score: 0.8165): What food would you buy if it was the only food you could ever eat?\n",
      "\n"
     ]
    }
   ],
   "source": [
    "for query in ['programming', 'pets', 'college', 'love', 'food']:\n",
    "    print_top10_matches(query)"
   ]
  },
  {
   "cell_type": "markdown",
   "metadata": {},
   "source": [
    "The search engine I've developed seems to be returning relevant document results. For example, \"pets\" returns queries that at least have the word \"pets\" in it. The NDCG score is difficult to implement though, as the true relevance scores were arbitrarily assigned after viewing the cosine similarity scores. And because I implemented stop_words=\"English\" within the count vectorizer, nearly every query in the \"Pets\" results has a NDCG score of 1 because if stop words are removed, all that's left is \"pets.\" In summary, the queries returned are accurate and relevant, but the NDCG scoring system is complicated by the removal of stopwords and the low number of samples. As sample size is increased, a more accurate scoring system can be attuned. "
   ]
  },
  {
   "cell_type": "markdown",
   "metadata": {},
   "source": [
    "#### Finally, let's get a sense of how scalable our system is. Because we're not imposing a minimum frequency for including a word in our CountVectorizer, we're effectively indexing every wold. For this exercise, we have 20K questions, but what if we had 1M or 1B--how many terms would we be indexing? Let's estimate this by looking at how our index size (i.e., the number of words recognized by the vectorizer) grows relative to our corpus size.\n",
    "\n",
    "- (5 points) Re-run your CountVectorizer code with 500, 1K, 5K, 10K, and all 20K questions and for each plot how many terms appear in the vocabulary field for the vectorizer. In general, we recommend using Seaborn for all plotting. Write 2-3 on why you think this approach will or won't scale as we get more documents and justify you answer."
   ]
  },
  {
   "cell_type": "code",
   "execution_count": 63,
   "metadata": {},
   "outputs": [],
   "source": [
    "from sklearn.feature_extraction.text import CountVectorizer\n",
    "from sklearn.metrics.pairwise import cosine_similarity\n",
    "from sklearn.metrics import ndcg_score\n",
    "import operator\n",
    "import numpy as np\n",
    "\n",
    "def get_query_similarity(corpus=query_list):\n",
    "    \"\"\"\n",
    "    vectorizer: CountVectorizer model\n",
    "    query: query doc\n",
    "    return: dictionary with corpus index: cosine similarity score between query and all docs\n",
    "    \"\"\"\n",
    "    vectorizer = CountVectorizer(stop_words=\"english\")\n",
    "    corpus_vectors = vectorizer.fit_transform(corpus)      \n",
    "    return corpus_vectors.toarray().shape"
   ]
  },
  {
   "cell_type": "code",
   "execution_count": 67,
   "metadata": {},
   "outputs": [],
   "source": [
    "index_corpus_dict = {}\n",
    "\n",
    "for corpus_size in [500, 1000, 5000, 10000, 20000]:\n",
    "    result = get_query_similarity(corpus=query_list[:corpus_size])\n",
    "    index_corpus_dict[result[0]] = result[1]"
   ]
  },
  {
   "cell_type": "code",
   "execution_count": 69,
   "metadata": {},
   "outputs": [
    {
     "data": {
      "image/png": "[encoded data removed]",
      "text/plain": [
       "<Figure size 1152x576 with 1 Axes>"
      ]
     },
     "metadata": {
      "needs_background": "light"
     },
     "output_type": "display_data"
    }
   ],
   "source": [
    "import seaborn as sns\n",
    "\n",
    "fix, ax = plt.subplots(figsize=(16,8))\n",
    "\n",
    "sns.scatterplot(data=index_corpus_dict)\n",
    "plt.title('Reddit Corpus Size vs. Index Size')\n",
    "plt.ylabel('Index Size (stopwords removed)')\n",
    "plt.xlabel('Corpus Size')\n",
    "plt.show()"
   ]
  },
  {
   "cell_type": "markdown",
   "metadata": {},
   "source": [
    "The scatterplot visualization provides a glimpse of why this process isn't necessarily scalable. The corpus sizes plotted on the x-axis are 500, 1K, 5K, 10K, and 20K and they appear to project a plateau-ing trendline as corpus sizes grow. This suggests that to a point, vocabulary size is important. However, at an unknown corpus size, an additional document is less influential in adding a word to the index. This suggests that MORE information is not neccessarily more helpful, and that it will probably result in memory issues on a computer. "
   ]
  }
 ],
 "metadata": {
  "kernelspec": {
   "display_name": "Python 3",
   "language": "python",
   "name": "python3"
  },
  "language_info": {
   "codemirror_mode": {
    "name": "ipython",
    "version": 3
   },
   "file_extension": ".py",
   "mimetype": "text/x-python",
   "name": "python",
   "nbconvert_exporter": "python",
   "pygments_lexer": "ipython3",
   "version": "3.8.5"
  }
 },
 "nbformat": 4,
 "nbformat_minor": 5
}
